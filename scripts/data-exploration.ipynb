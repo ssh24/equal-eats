{
 "cells": [
  {
   "cell_type": "markdown",
   "metadata": {},
   "source": [
    "## Investigate Raw Data\n",
    "### Author: S. Sakib Hasan\n",
    "#### Date: March 20, 2020 @ 21:03 EDT"
   ]
  },
  {
   "cell_type": "markdown",
   "metadata": {},
   "source": [
    "#### Set up environment"
   ]
  },
  {
   "cell_type": "code",
   "execution_count": 1,
   "metadata": {},
   "outputs": [],
   "source": [
    "import os\n",
    "import pandas as pd\n",
    "import numpy as np"
   ]
  },
  {
   "cell_type": "code",
   "execution_count": 2,
   "metadata": {},
   "outputs": [],
   "source": [
    "scripts_dir = os.getcwd();"
   ]
  },
  {
   "cell_type": "code",
   "execution_count": 3,
   "metadata": {},
   "outputs": [],
   "source": [
    "os.chdir(os.path.join(scripts_dir, \"..\", \"data\"));"
   ]
  },
  {
   "cell_type": "code",
   "execution_count": 4,
   "metadata": {},
   "outputs": [],
   "source": [
    "data_dir = os.getcwd();"
   ]
  },
  {
   "cell_type": "code",
   "execution_count": 6,
   "metadata": {},
   "outputs": [],
   "source": [
    "rawFileName = \"raw-data.xlsx\";"
   ]
  },
  {
   "cell_type": "code",
   "execution_count": 7,
   "metadata": {},
   "outputs": [],
   "source": [
    "df = pd.read_excel(rawFileName);"
   ]
  },
  {
   "cell_type": "markdown",
   "metadata": {},
   "source": [
    "#### Get the shape of the data"
   ]
  },
  {
   "cell_type": "code",
   "execution_count": 9,
   "metadata": {},
   "outputs": [
    {
     "data": {
      "text/plain": [
       "(3424, 20)"
      ]
     },
     "execution_count": 9,
     "metadata": {},
     "output_type": "execute_result"
    }
   ],
   "source": [
    "df.shape"
   ]
  },
  {
   "cell_type": "markdown",
   "metadata": {},
   "source": [
    "#### Get the column names"
   ]
  },
  {
   "cell_type": "code",
   "execution_count": 10,
   "metadata": {},
   "outputs": [
    {
     "data": {
      "text/plain": [
       "Index(['First Name (Billing)', 'Last Name (Billing)', 'Company (Billing)',\n",
       "       'Address 1&2 (Billing)', 'City (Billing)', 'State Code (Billing)',\n",
       "       'Postcode (Billing)', 'Country Code (Billing)', 'Email (Billing)',\n",
       "       'Phone (Billing)', 'First Name (Shipping)',\n",
       "       'Summary Report Total Orders', 'Summary Report Total Items',\n",
       "       'Summary Report Total Items (Exported)', 'Summary Report Total Amount',\n",
       "       'Summary Report Total Amount Paid', 'Summary Report Total Shipping',\n",
       "       'Summary Report Total Discount', 'Summary Report Total Refunds',\n",
       "       'Summary Report Total Refund Amount'],\n",
       "      dtype='object')"
      ]
     },
     "execution_count": 10,
     "metadata": {},
     "output_type": "execute_result"
    }
   ],
   "source": [
    "df.columns"
   ]
  },
  {
   "cell_type": "markdown",
   "metadata": {},
   "source": [
    "#### Describe the dataframe"
   ]
  },
  {
   "cell_type": "code",
   "execution_count": 11,
   "metadata": {},
   "outputs": [
    {
     "data": {
      "text/html": [
       "<div>\n",
       "<style scoped>\n",
       "    .dataframe tbody tr th:only-of-type {\n",
       "        vertical-align: middle;\n",
       "    }\n",
       "\n",
       "    .dataframe tbody tr th {\n",
       "        vertical-align: top;\n",
       "    }\n",
       "\n",
       "    .dataframe thead th {\n",
       "        text-align: right;\n",
       "    }\n",
       "</style>\n",
       "<table border=\"1\" class=\"dataframe\">\n",
       "  <thead>\n",
       "    <tr style=\"text-align: right;\">\n",
       "      <th></th>\n",
       "      <th>count</th>\n",
       "      <th>mean</th>\n",
       "      <th>std</th>\n",
       "      <th>min</th>\n",
       "      <th>25%</th>\n",
       "      <th>50%</th>\n",
       "      <th>75%</th>\n",
       "      <th>max</th>\n",
       "    </tr>\n",
       "  </thead>\n",
       "  <tbody>\n",
       "    <tr>\n",
       "      <th>First Name (Shipping)</th>\n",
       "      <td>0.0</td>\n",
       "      <td>NaN</td>\n",
       "      <td>NaN</td>\n",
       "      <td>NaN</td>\n",
       "      <td>NaN</td>\n",
       "      <td>NaN</td>\n",
       "      <td>NaN</td>\n",
       "      <td>NaN</td>\n",
       "    </tr>\n",
       "    <tr>\n",
       "      <th>Summary Report Total Orders</th>\n",
       "      <td>3424.0</td>\n",
       "      <td>1.158586</td>\n",
       "      <td>0.809830</td>\n",
       "      <td>1.0</td>\n",
       "      <td>1.0</td>\n",
       "      <td>1.0</td>\n",
       "      <td>1.0</td>\n",
       "      <td>40.0</td>\n",
       "    </tr>\n",
       "    <tr>\n",
       "      <th>Summary Report Total Items</th>\n",
       "      <td>3424.0</td>\n",
       "      <td>1.682827</td>\n",
       "      <td>1.329188</td>\n",
       "      <td>0.0</td>\n",
       "      <td>1.0</td>\n",
       "      <td>1.0</td>\n",
       "      <td>2.0</td>\n",
       "      <td>21.0</td>\n",
       "    </tr>\n",
       "    <tr>\n",
       "      <th>Summary Report Total Items (Exported)</th>\n",
       "      <td>3424.0</td>\n",
       "      <td>1.682827</td>\n",
       "      <td>1.329188</td>\n",
       "      <td>0.0</td>\n",
       "      <td>1.0</td>\n",
       "      <td>1.0</td>\n",
       "      <td>2.0</td>\n",
       "      <td>21.0</td>\n",
       "    </tr>\n",
       "    <tr>\n",
       "      <th>Summary Report Total Amount</th>\n",
       "      <td>3424.0</td>\n",
       "      <td>13.553446</td>\n",
       "      <td>10.597160</td>\n",
       "      <td>8.0</td>\n",
       "      <td>8.0</td>\n",
       "      <td>8.0</td>\n",
       "      <td>16.0</td>\n",
       "      <td>168.0</td>\n",
       "    </tr>\n",
       "    <tr>\n",
       "      <th>Summary Report Total Amount Paid</th>\n",
       "      <td>3424.0</td>\n",
       "      <td>10.504381</td>\n",
       "      <td>11.267106</td>\n",
       "      <td>0.0</td>\n",
       "      <td>0.0</td>\n",
       "      <td>8.0</td>\n",
       "      <td>16.0</td>\n",
       "      <td>120.0</td>\n",
       "    </tr>\n",
       "    <tr>\n",
       "      <th>Summary Report Total Shipping</th>\n",
       "      <td>3424.0</td>\n",
       "      <td>0.000000</td>\n",
       "      <td>0.000000</td>\n",
       "      <td>0.0</td>\n",
       "      <td>0.0</td>\n",
       "      <td>0.0</td>\n",
       "      <td>0.0</td>\n",
       "      <td>0.0</td>\n",
       "    </tr>\n",
       "    <tr>\n",
       "      <th>Summary Report Total Discount</th>\n",
       "      <td>3424.0</td>\n",
       "      <td>0.000000</td>\n",
       "      <td>0.000000</td>\n",
       "      <td>0.0</td>\n",
       "      <td>0.0</td>\n",
       "      <td>0.0</td>\n",
       "      <td>0.0</td>\n",
       "      <td>0.0</td>\n",
       "    </tr>\n",
       "    <tr>\n",
       "      <th>Summary Report Total Refunds</th>\n",
       "      <td>3424.0</td>\n",
       "      <td>0.000000</td>\n",
       "      <td>0.000000</td>\n",
       "      <td>0.0</td>\n",
       "      <td>0.0</td>\n",
       "      <td>0.0</td>\n",
       "      <td>0.0</td>\n",
       "      <td>0.0</td>\n",
       "    </tr>\n",
       "    <tr>\n",
       "      <th>Summary Report Total Refund Amount</th>\n",
       "      <td>3424.0</td>\n",
       "      <td>0.000000</td>\n",
       "      <td>0.000000</td>\n",
       "      <td>0.0</td>\n",
       "      <td>0.0</td>\n",
       "      <td>0.0</td>\n",
       "      <td>0.0</td>\n",
       "      <td>0.0</td>\n",
       "    </tr>\n",
       "  </tbody>\n",
       "</table>\n",
       "</div>"
      ],
      "text/plain": [
       "                                        count       mean        std  min  25%  \\\n",
       "First Name (Shipping)                     0.0        NaN        NaN  NaN  NaN   \n",
       "Summary Report Total Orders            3424.0   1.158586   0.809830  1.0  1.0   \n",
       "Summary Report Total Items             3424.0   1.682827   1.329188  0.0  1.0   \n",
       "Summary Report Total Items (Exported)  3424.0   1.682827   1.329188  0.0  1.0   \n",
       "Summary Report Total Amount            3424.0  13.553446  10.597160  8.0  8.0   \n",
       "Summary Report Total Amount Paid       3424.0  10.504381  11.267106  0.0  0.0   \n",
       "Summary Report Total Shipping          3424.0   0.000000   0.000000  0.0  0.0   \n",
       "Summary Report Total Discount          3424.0   0.000000   0.000000  0.0  0.0   \n",
       "Summary Report Total Refunds           3424.0   0.000000   0.000000  0.0  0.0   \n",
       "Summary Report Total Refund Amount     3424.0   0.000000   0.000000  0.0  0.0   \n",
       "\n",
       "                                       50%   75%    max  \n",
       "First Name (Shipping)                  NaN   NaN    NaN  \n",
       "Summary Report Total Orders            1.0   1.0   40.0  \n",
       "Summary Report Total Items             1.0   2.0   21.0  \n",
       "Summary Report Total Items (Exported)  1.0   2.0   21.0  \n",
       "Summary Report Total Amount            8.0  16.0  168.0  \n",
       "Summary Report Total Amount Paid       8.0  16.0  120.0  \n",
       "Summary Report Total Shipping          0.0   0.0    0.0  \n",
       "Summary Report Total Discount          0.0   0.0    0.0  \n",
       "Summary Report Total Refunds           0.0   0.0    0.0  \n",
       "Summary Report Total Refund Amount     0.0   0.0    0.0  "
      ]
     },
     "execution_count": 11,
     "metadata": {},
     "output_type": "execute_result"
    }
   ],
   "source": [
    "df.describe().T"
   ]
  },
  {
   "cell_type": "markdown",
   "metadata": {},
   "source": [
    "#### Get the number of null's in each column"
   ]
  },
  {
   "cell_type": "code",
   "execution_count": 16,
   "metadata": {},
   "outputs": [
    {
     "data": {
      "text/plain": [
       "First Name (Billing)                      926\n",
       "Last Name (Billing)                      1154\n",
       "Company (Billing)                        3247\n",
       "Address 1&2 (Billing)                     926\n",
       "City (Billing)                            926\n",
       "State Code (Billing)                     1091\n",
       "Postcode (Billing)                        934\n",
       "Country Code (Billing)                    931\n",
       "Email (Billing)                             1\n",
       "Phone (Billing)                           928\n",
       "First Name (Shipping)                    3424\n",
       "Summary Report Total Orders                 0\n",
       "Summary Report Total Items                  0\n",
       "Summary Report Total Items (Exported)       0\n",
       "Summary Report Total Amount                 0\n",
       "Summary Report Total Amount Paid            0\n",
       "Summary Report Total Shipping               0\n",
       "Summary Report Total Discount               0\n",
       "Summary Report Total Refunds                0\n",
       "Summary Report Total Refund Amount          0\n",
       "dtype: int64"
      ]
     },
     "execution_count": 16,
     "metadata": {},
     "output_type": "execute_result"
    }
   ],
   "source": [
    "df.isnull().sum()"
   ]
  },
  {
   "cell_type": "code",
   "execution_count": 17,
   "metadata": {},
   "outputs": [
    {
     "data": {
      "text/html": [
       "<div>\n",
       "<style scoped>\n",
       "    .dataframe tbody tr th:only-of-type {\n",
       "        vertical-align: middle;\n",
       "    }\n",
       "\n",
       "    .dataframe tbody tr th {\n",
       "        vertical-align: top;\n",
       "    }\n",
       "\n",
       "    .dataframe thead th {\n",
       "        text-align: right;\n",
       "    }\n",
       "</style>\n",
       "<table border=\"1\" class=\"dataframe\">\n",
       "  <thead>\n",
       "    <tr style=\"text-align: right;\">\n",
       "      <th></th>\n",
       "      <th>First Name (Billing)</th>\n",
       "      <th>Last Name (Billing)</th>\n",
       "      <th>Company (Billing)</th>\n",
       "      <th>Address 1&amp;2 (Billing)</th>\n",
       "      <th>City (Billing)</th>\n",
       "      <th>State Code (Billing)</th>\n",
       "      <th>Postcode (Billing)</th>\n",
       "      <th>Country Code (Billing)</th>\n",
       "      <th>Email (Billing)</th>\n",
       "      <th>Phone (Billing)</th>\n",
       "      <th>First Name (Shipping)</th>\n",
       "      <th>Summary Report Total Orders</th>\n",
       "      <th>Summary Report Total Items</th>\n",
       "      <th>Summary Report Total Items (Exported)</th>\n",
       "      <th>Summary Report Total Amount</th>\n",
       "      <th>Summary Report Total Amount Paid</th>\n",
       "      <th>Summary Report Total Shipping</th>\n",
       "      <th>Summary Report Total Discount</th>\n",
       "      <th>Summary Report Total Refunds</th>\n",
       "      <th>Summary Report Total Refund Amount</th>\n",
       "    </tr>\n",
       "  </thead>\n",
       "  <tbody>\n",
       "    <tr>\n",
       "      <th>350</th>\n",
       "      <td>NaN</td>\n",
       "      <td>NaN</td>\n",
       "      <td>NaN</td>\n",
       "      <td>NaN</td>\n",
       "      <td>NaN</td>\n",
       "      <td>NaN</td>\n",
       "      <td>NaN</td>\n",
       "      <td>NaN</td>\n",
       "      <td>NaN</td>\n",
       "      <td>NaN</td>\n",
       "      <td>NaN</td>\n",
       "      <td>40</td>\n",
       "      <td>3</td>\n",
       "      <td>3</td>\n",
       "      <td>24</td>\n",
       "      <td>0</td>\n",
       "      <td>0</td>\n",
       "      <td>0</td>\n",
       "      <td>0</td>\n",
       "      <td>0</td>\n",
       "    </tr>\n",
       "  </tbody>\n",
       "</table>\n",
       "</div>"
      ],
      "text/plain": [
       "    First Name (Billing) Last Name (Billing) Company (Billing)  \\\n",
       "350                  NaN                 NaN               NaN   \n",
       "\n",
       "    Address 1&2 (Billing) City (Billing) State Code (Billing)  \\\n",
       "350                   NaN            NaN                  NaN   \n",
       "\n",
       "    Postcode (Billing) Country Code (Billing) Email (Billing) Phone (Billing)  \\\n",
       "350                NaN                    NaN             NaN             NaN   \n",
       "\n",
       "     First Name (Shipping)  Summary Report Total Orders  \\\n",
       "350                    NaN                           40   \n",
       "\n",
       "     Summary Report Total Items  Summary Report Total Items (Exported)  \\\n",
       "350                           3                                      3   \n",
       "\n",
       "     Summary Report Total Amount  Summary Report Total Amount Paid  \\\n",
       "350                           24                                 0   \n",
       "\n",
       "     Summary Report Total Shipping  Summary Report Total Discount  \\\n",
       "350                              0                              0   \n",
       "\n",
       "     Summary Report Total Refunds  Summary Report Total Refund Amount  \n",
       "350                             0                                   0  "
      ]
     },
     "execution_count": 17,
     "metadata": {},
     "output_type": "execute_result"
    }
   ],
   "source": [
    "df[df[\"Email (Billing)\"].isna()]"
   ]
  }
 ],
 "metadata": {
  "kernelspec": {
   "display_name": "Python 3",
   "language": "python",
   "name": "python3"
  },
  "language_info": {
   "codemirror_mode": {
    "name": "ipython",
    "version": 3
   },
   "file_extension": ".py",
   "mimetype": "text/x-python",
   "name": "python",
   "nbconvert_exporter": "python",
   "pygments_lexer": "ipython3",
   "version": "3.7.2"
  }
 },
 "nbformat": 4,
 "nbformat_minor": 2
}
